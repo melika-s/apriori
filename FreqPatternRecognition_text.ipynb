{
  "nbformat": 4,
  "nbformat_minor": 0,
  "metadata": {
    "colab": {
      "provenance": []
    },
    "kernelspec": {
      "name": "python3",
      "display_name": "Python 3"
    },
    "language_info": {
      "name": "python"
    }
  },
  "cells": [
    {
      "cell_type": "markdown",
      "source": [
        "#**Loading Data**"
      ],
      "metadata": {
        "id": "wvIXJ76aIRb6"
      }
    },
    {
      "cell_type": "code",
      "source": [
        "from io import StringIO\n",
        "from google.colab import files"
      ],
      "metadata": {
        "id": "DFxSTK3OSrXx"
      },
      "execution_count": 1,
      "outputs": []
    },
    {
      "cell_type": "code",
      "source": [
        "uploadedFiles = files.upload()"
      ],
      "metadata": {
        "colab": {
          "base_uri": "https://localhost:8080/",
          "height": 106
        },
        "id": "ducFixzCvKUK",
        "outputId": "1bf45272-2b41-499c-9d62-43aa635ac7fc"
      },
      "execution_count": 2,
      "outputs": [
        {
          "output_type": "display_data",
          "data": {
            "text/plain": [
              "<IPython.core.display.HTML object>"
            ],
            "text/html": [
              "\n",
              "     <input type=\"file\" id=\"files-28b322c6-57bc-4955-a2f9-b3c2b32f0e3e\" name=\"files[]\" multiple disabled\n",
              "        style=\"border:none\" />\n",
              "     <output id=\"result-28b322c6-57bc-4955-a2f9-b3c2b32f0e3e\">\n",
              "      Upload widget is only available when the cell has been executed in the\n",
              "      current browser session. Please rerun this cell to enable.\n",
              "      </output>\n",
              "      <script>// Copyright 2017 Google LLC\n",
              "//\n",
              "// Licensed under the Apache License, Version 2.0 (the \"License\");\n",
              "// you may not use this file except in compliance with the License.\n",
              "// You may obtain a copy of the License at\n",
              "//\n",
              "//      http://www.apache.org/licenses/LICENSE-2.0\n",
              "//\n",
              "// Unless required by applicable law or agreed to in writing, software\n",
              "// distributed under the License is distributed on an \"AS IS\" BASIS,\n",
              "// WITHOUT WARRANTIES OR CONDITIONS OF ANY KIND, either express or implied.\n",
              "// See the License for the specific language governing permissions and\n",
              "// limitations under the License.\n",
              "\n",
              "/**\n",
              " * @fileoverview Helpers for google.colab Python module.\n",
              " */\n",
              "(function(scope) {\n",
              "function span(text, styleAttributes = {}) {\n",
              "  const element = document.createElement('span');\n",
              "  element.textContent = text;\n",
              "  for (const key of Object.keys(styleAttributes)) {\n",
              "    element.style[key] = styleAttributes[key];\n",
              "  }\n",
              "  return element;\n",
              "}\n",
              "\n",
              "// Max number of bytes which will be uploaded at a time.\n",
              "const MAX_PAYLOAD_SIZE = 100 * 1024;\n",
              "\n",
              "function _uploadFiles(inputId, outputId) {\n",
              "  const steps = uploadFilesStep(inputId, outputId);\n",
              "  const outputElement = document.getElementById(outputId);\n",
              "  // Cache steps on the outputElement to make it available for the next call\n",
              "  // to uploadFilesContinue from Python.\n",
              "  outputElement.steps = steps;\n",
              "\n",
              "  return _uploadFilesContinue(outputId);\n",
              "}\n",
              "\n",
              "// This is roughly an async generator (not supported in the browser yet),\n",
              "// where there are multiple asynchronous steps and the Python side is going\n",
              "// to poll for completion of each step.\n",
              "// This uses a Promise to block the python side on completion of each step,\n",
              "// then passes the result of the previous step as the input to the next step.\n",
              "function _uploadFilesContinue(outputId) {\n",
              "  const outputElement = document.getElementById(outputId);\n",
              "  const steps = outputElement.steps;\n",
              "\n",
              "  const next = steps.next(outputElement.lastPromiseValue);\n",
              "  return Promise.resolve(next.value.promise).then((value) => {\n",
              "    // Cache the last promise value to make it available to the next\n",
              "    // step of the generator.\n",
              "    outputElement.lastPromiseValue = value;\n",
              "    return next.value.response;\n",
              "  });\n",
              "}\n",
              "\n",
              "/**\n",
              " * Generator function which is called between each async step of the upload\n",
              " * process.\n",
              " * @param {string} inputId Element ID of the input file picker element.\n",
              " * @param {string} outputId Element ID of the output display.\n",
              " * @return {!Iterable<!Object>} Iterable of next steps.\n",
              " */\n",
              "function* uploadFilesStep(inputId, outputId) {\n",
              "  const inputElement = document.getElementById(inputId);\n",
              "  inputElement.disabled = false;\n",
              "\n",
              "  const outputElement = document.getElementById(outputId);\n",
              "  outputElement.innerHTML = '';\n",
              "\n",
              "  const pickedPromise = new Promise((resolve) => {\n",
              "    inputElement.addEventListener('change', (e) => {\n",
              "      resolve(e.target.files);\n",
              "    });\n",
              "  });\n",
              "\n",
              "  const cancel = document.createElement('button');\n",
              "  inputElement.parentElement.appendChild(cancel);\n",
              "  cancel.textContent = 'Cancel upload';\n",
              "  const cancelPromise = new Promise((resolve) => {\n",
              "    cancel.onclick = () => {\n",
              "      resolve(null);\n",
              "    };\n",
              "  });\n",
              "\n",
              "  // Wait for the user to pick the files.\n",
              "  const files = yield {\n",
              "    promise: Promise.race([pickedPromise, cancelPromise]),\n",
              "    response: {\n",
              "      action: 'starting',\n",
              "    }\n",
              "  };\n",
              "\n",
              "  cancel.remove();\n",
              "\n",
              "  // Disable the input element since further picks are not allowed.\n",
              "  inputElement.disabled = true;\n",
              "\n",
              "  if (!files) {\n",
              "    return {\n",
              "      response: {\n",
              "        action: 'complete',\n",
              "      }\n",
              "    };\n",
              "  }\n",
              "\n",
              "  for (const file of files) {\n",
              "    const li = document.createElement('li');\n",
              "    li.append(span(file.name, {fontWeight: 'bold'}));\n",
              "    li.append(span(\n",
              "        `(${file.type || 'n/a'}) - ${file.size} bytes, ` +\n",
              "        `last modified: ${\n",
              "            file.lastModifiedDate ? file.lastModifiedDate.toLocaleDateString() :\n",
              "                                    'n/a'} - `));\n",
              "    const percent = span('0% done');\n",
              "    li.appendChild(percent);\n",
              "\n",
              "    outputElement.appendChild(li);\n",
              "\n",
              "    const fileDataPromise = new Promise((resolve) => {\n",
              "      const reader = new FileReader();\n",
              "      reader.onload = (e) => {\n",
              "        resolve(e.target.result);\n",
              "      };\n",
              "      reader.readAsArrayBuffer(file);\n",
              "    });\n",
              "    // Wait for the data to be ready.\n",
              "    let fileData = yield {\n",
              "      promise: fileDataPromise,\n",
              "      response: {\n",
              "        action: 'continue',\n",
              "      }\n",
              "    };\n",
              "\n",
              "    // Use a chunked sending to avoid message size limits. See b/62115660.\n",
              "    let position = 0;\n",
              "    do {\n",
              "      const length = Math.min(fileData.byteLength - position, MAX_PAYLOAD_SIZE);\n",
              "      const chunk = new Uint8Array(fileData, position, length);\n",
              "      position += length;\n",
              "\n",
              "      const base64 = btoa(String.fromCharCode.apply(null, chunk));\n",
              "      yield {\n",
              "        response: {\n",
              "          action: 'append',\n",
              "          file: file.name,\n",
              "          data: base64,\n",
              "        },\n",
              "      };\n",
              "\n",
              "      let percentDone = fileData.byteLength === 0 ?\n",
              "          100 :\n",
              "          Math.round((position / fileData.byteLength) * 100);\n",
              "      percent.textContent = `${percentDone}% done`;\n",
              "\n",
              "    } while (position < fileData.byteLength);\n",
              "  }\n",
              "\n",
              "  // All done.\n",
              "  yield {\n",
              "    response: {\n",
              "      action: 'complete',\n",
              "    }\n",
              "  };\n",
              "}\n",
              "\n",
              "scope.google = scope.google || {};\n",
              "scope.google.colab = scope.google.colab || {};\n",
              "scope.google.colab._files = {\n",
              "  _uploadFiles,\n",
              "  _uploadFilesContinue,\n",
              "};\n",
              "})(self);\n",
              "</script> "
            ]
          },
          "metadata": {}
        },
        {
          "output_type": "stream",
          "name": "stdout",
          "text": [
            "Saving stopWords.txt to stopWords.txt\n",
            "Saving theBlue.txt to theBlue.txt\n"
          ]
        }
      ]
    },
    {
      "cell_type": "code",
      "source": [
        "def read (fileName):\n",
        "  return decode(fileName).read()"
      ],
      "metadata": {
        "id": "ucx8Ljd1uyYT"
      },
      "execution_count": 3,
      "outputs": []
    },
    {
      "cell_type": "code",
      "source": [
        "def decode(fileName):\n",
        "  return StringIO(uploadedFiles[fileName + '.txt'].decode(\"utf-8\"))"
      ],
      "metadata": {
        "id": "b9b4JDmT_LFg"
      },
      "execution_count": 4,
      "outputs": []
    },
    {
      "cell_type": "code",
      "source": [
        "def getInput(txtType):\n",
        "  return input(\"please enter \" + txtType + \" file name:   \")"
      ],
      "metadata": {
        "id": "_y7xQsaO4dXi"
      },
      "execution_count": 5,
      "outputs": []
    },
    {
      "cell_type": "code",
      "source": [
        "file01 = read(getInput('text'))\n",
        "stopwords = read(getInput('stop word'))"
      ],
      "metadata": {
        "id": "oAWh-JM8lXjZ",
        "colab": {
          "base_uri": "https://localhost:8080/"
        },
        "outputId": "1a3e2996-f942-4f9d-9725-ab4856c79433"
      },
      "execution_count": 6,
      "outputs": [
        {
          "name": "stdout",
          "output_type": "stream",
          "text": [
            "please enter text file name:   theBlue\n",
            "please enter stop word file name:   stopWords\n"
          ]
        }
      ]
    },
    {
      "cell_type": "markdown",
      "source": [
        "# **Deleting Stopwords**"
      ],
      "metadata": {
        "id": "U65fvE_ZWF7E"
      }
    },
    {
      "cell_type": "code",
      "source": [
        "import re\n",
        "from nltk.tokenize import RegexpTokenizer"
      ],
      "metadata": {
        "id": "G_5DjVwncu6B"
      },
      "execution_count": 7,
      "outputs": []
    },
    {
      "cell_type": "code",
      "source": [
        "tokenizer = RegexpTokenizer('\\s+', gaps = True)"
      ],
      "metadata": {
        "id": "_z8IkJaz3e9j"
      },
      "execution_count": 8,
      "outputs": []
    },
    {
      "cell_type": "code",
      "source": [
        "def tokenizeText (text):\n",
        "  return tokenizer.tokenize(re.sub(\"\\W\", \" \", text))"
      ],
      "metadata": {
        "id": "lC_7V0xlV4jN"
      },
      "execution_count": 9,
      "outputs": []
    },
    {
      "cell_type": "code",
      "source": [
        "stopwords = tokenizeText(stopwords)"
      ],
      "metadata": {
        "id": "mCbHnDld3Dar"
      },
      "execution_count": 10,
      "outputs": []
    },
    {
      "cell_type": "code",
      "source": [
        "def deleteStopWords(tokens):\n",
        "  filtered_tokens = ' '\n",
        "  \n",
        "  for word in tokens:\n",
        "    if word not in stopwords:\n",
        "      filtered_tokens = filtered_tokens + ' ' + word\n",
        "\n",
        "  return filtered_tokens"
      ],
      "metadata": {
        "id": "DvSgI6XuzqO-"
      },
      "execution_count": 11,
      "outputs": []
    },
    {
      "cell_type": "code",
      "source": [
        "def makeSet (toBeSet):\n",
        "  return set(deleteStopWords(tokenizeText(toBeSet)))"
      ],
      "metadata": {
        "id": "7NB9NlzG17UW"
      },
      "execution_count": 12,
      "outputs": []
    },
    {
      "cell_type": "markdown",
      "source": [
        "# **Apriori Algorithm**"
      ],
      "metadata": {
        "id": "ApwaP2PcNP56"
      }
    },
    {
      "cell_type": "code",
      "execution_count": 13,
      "metadata": {
        "execution": {
          "iopub.execute_input": "2021-10-14T19:14:29.630101Z",
          "iopub.status.busy": "2021-10-14T19:14:29.628883Z",
          "iopub.status.idle": "2021-10-14T19:14:29.639646Z",
          "shell.execute_reply": "2021-10-14T19:14:29.638959Z",
          "shell.execute_reply.started": "2021-10-14T19:13:03.240264Z"
        },
        "papermill": {
          "duration": 0.027589,
          "end_time": "2021-10-14T19:14:29.639822",
          "exception": false,
          "start_time": "2021-10-14T19:14:29.612233",
          "status": "completed"
        },
        "tags": [],
        "id": "gK_xK6YpNflH"
      },
      "outputs": [],
      "source": [
        "import pandas as pd"
      ]
    },
    {
      "cell_type": "code",
      "source": [
        "def changeRowVal(tr, row, newVal):\n",
        "  newVal = set(tokenizeText(newVal))\n",
        "  return tr.replace(row, str(newVal), inplace = True)"
      ],
      "metadata": {
        "id": "QJvN1KRndWFC"
      },
      "execution_count": 14,
      "outputs": []
    },
    {
      "cell_type": "code",
      "source": [
        "def deleteEmptyRows(tr):\n",
        "  return tr.drop(tr[tr.column == ' '].index, inplace = True)"
      ],
      "metadata": {
        "id": "Uo7CrtrCdZIf"
      },
      "execution_count": 15,
      "outputs": []
    },
    {
      "cell_type": "code",
      "source": [
        "def updateTransaction(tr):\n",
        "  for row in tr.itertuples():\n",
        "    changeRowVal(tr, row.column, deleteStopWords(tokenizeText(row.column)))\n",
        "  \n",
        "  return deleteEmptyRows(tr)"
      ],
      "metadata": {
        "id": "rOgfAQAidb7E"
      },
      "execution_count": 16,
      "outputs": []
    },
    {
      "cell_type": "code",
      "source": [
        "def findIt(isFirst, group, row):\n",
        "  if isFirst:\n",
        "    return group in row.column\n",
        "  else:\n",
        "    rowSet = set(tokenizeText(row.column))\n",
        "    return set(group).intersection(rowSet) == set(group)"
      ],
      "metadata": {
        "id": "PzJwtKpUriLL"
      },
      "execution_count": 17,
      "outputs": []
    },
    {
      "cell_type": "code",
      "source": [
        "def findFreq(tr, theSet, isFirst):\n",
        "  countItem = {}\n",
        "\n",
        "  for group in theSet:\n",
        "    freq = 0\n",
        "    for row in tr.itertuples():\n",
        "      if findIt(isFirst, group, row):\n",
        "        freq = freq + 1\n",
        "        \n",
        "    countItem[group] = freq\n",
        "  \n",
        "  return countItem"
      ],
      "metadata": {
        "id": "HQlCLMJTqnTJ"
      },
      "execution_count": 18,
      "outputs": []
    },
    {
      "cell_type": "code",
      "source": [
        "def createTable(countItem):\n",
        "  data = pd.DataFrame()\n",
        "\n",
        "  data['itemset'] = countItem.keys()\n",
        "  data['frequency'] = countItem.values()\n",
        "\n",
        "  return data"
      ],
      "metadata": {
        "id": "DLCrc8CVQx--"
      },
      "execution_count": 19,
      "outputs": []
    },
    {
      "cell_type": "code",
      "source": [
        "def prune(data, supp):  \n",
        "    return data[data.frequency >= supp]"
      ],
      "metadata": {
        "id": "wsl1dCHXQxOe"
      },
      "execution_count": 20,
      "outputs": []
    },
    {
      "cell_type": "code",
      "source": [
        "def join(list_of_items):\n",
        "    itemsets = []\n",
        "    i = 1\n",
        "    for entry in list_of_items:\n",
        "        proceding_items = list_of_items[i:]\n",
        "        for item in proceding_items:\n",
        "            if(type(item) is str):\n",
        "                if entry != item:\n",
        "                    tuples = (entry, item)\n",
        "                    itemsets.append(tuples)\n",
        "            else:\n",
        "                if entry[0:-1] == item[0:-1]:\n",
        "                    tuples = entry+item[1:]\n",
        "                    itemsets.append(tuples)\n",
        "        i = i+1\n",
        "    if(len(itemsets) == 0):\n",
        "        return None\n",
        "        \n",
        "    return itemsets"
      ],
      "metadata": {
        "id": "uUvgpoT3TNPK"
      },
      "execution_count": 21,
      "outputs": []
    },
    {
      "cell_type": "code",
      "source": [
        "def extractPattern(theSet, tr):\n",
        "  for i in range(int(len(theSet)/ 2)):\n",
        "    if i == 0:\n",
        "      transT = createTable(findFreq(tr, theSet, 1))\n",
        "    else:\n",
        "      transT = createTable(findFreq(tr, set(itemsetList), 0))\n",
        "\n",
        "    transT = prune(transT, 4)\n",
        "\n",
        "    itemsetList = join(transT.itemset)\n",
        "    if itemsetList == None:\n",
        "      break\n",
        "\n",
        "  return transT"
      ],
      "metadata": {
        "id": "6lXnD6vnzjFz"
      },
      "execution_count": 22,
      "outputs": []
    },
    {
      "cell_type": "markdown",
      "source": [
        "#**Extracting Frequent Pattern of a Text**"
      ],
      "metadata": {
        "id": "XZ5PKOJDWwlb"
      }
    },
    {
      "cell_type": "code",
      "source": [
        "file01_set = set(tokenizeText(deleteStopWords(tokenizeText(file01))))"
      ],
      "metadata": {
        "id": "oOR0xxfY2NE8"
      },
      "execution_count": 23,
      "outputs": []
    },
    {
      "cell_type": "code",
      "execution_count": 24,
      "metadata": {
        "execution": {
          "iopub.execute_input": "2021-10-14T19:14:29.669278Z",
          "iopub.status.busy": "2021-10-14T19:14:29.668555Z",
          "iopub.status.idle": "2021-10-14T19:14:29.706422Z",
          "shell.execute_reply": "2021-10-14T19:14:29.706927Z",
          "shell.execute_reply.started": "2021-10-14T19:13:03.248388Z"
        },
        "papermill": {
          "duration": 0.05479,
          "end_time": "2021-10-14T19:14:29.707119",
          "exception": false,
          "start_time": "2021-10-14T19:14:29.652329",
          "status": "completed"
        },
        "tags": [],
        "id": "bQoqvN1WzSWr"
      },
      "outputs": [],
      "source": [
        "transaction_df = pd.read_csv(decode(\"theBlue\"), header = None)\n",
        "transaction_df.columns = ['column']"
      ]
    },
    {
      "cell_type": "code",
      "source": [
        "updateTransaction(transaction_df)\n",
        "\n",
        "transaction_df"
      ],
      "metadata": {
        "colab": {
          "base_uri": "https://localhost:8080/",
          "height": 331
        },
        "outputId": "89503de4-e5fa-4656-9548-ab773b58154a",
        "id": "oTTIABxyzVFv"
      },
      "execution_count": 25,
      "outputs": [
        {
          "output_type": "execute_result",
          "data": {
            "text/plain": [
              "                                              column\n",
              "0  {'آبی', 'یاد', 'پرانرژی', 'مهربان', 'هایی', 'ن...\n",
              "1  {'گذاشتم', 'هرکجا', 'انگیز', 'بودم', 'می', 'دس...\n",
              "2  {'دوستش', 'آبی', 'زیاد', 'زیبایی', 'تو', 'نداش...\n",
              "3  {'حواسم', 'وسایل', 'ارزشش', 'آبی', 'خواستم', '...\n",
              "4  {'حواسم', 'آبی', 'یاد', 'روز', 'بودم', 'بردی',...\n",
              "5  {'حواسم', 'داشتم', 'آبی', 'شدم', 'ناامیدی', 'ه...\n",
              "6  {'کمتر', 'حواسم', 'داشتم', 'کافی', 'آبی', 'بود...\n",
              "7  {'شدی', 'روز', 'متنفر', 'زرد', 'بالاخره', 'تو'...\n",
              "8  {'دنیای', 'آبی', 'خواهم', 'خودم', 'داشتنی', 'م..."
            ],
            "text/html": [
              "\n",
              "  <div id=\"df-fd503860-735b-469c-9503-b948558c40a1\">\n",
              "    <div class=\"colab-df-container\">\n",
              "      <div>\n",
              "<style scoped>\n",
              "    .dataframe tbody tr th:only-of-type {\n",
              "        vertical-align: middle;\n",
              "    }\n",
              "\n",
              "    .dataframe tbody tr th {\n",
              "        vertical-align: top;\n",
              "    }\n",
              "\n",
              "    .dataframe thead th {\n",
              "        text-align: right;\n",
              "    }\n",
              "</style>\n",
              "<table border=\"1\" class=\"dataframe\">\n",
              "  <thead>\n",
              "    <tr style=\"text-align: right;\">\n",
              "      <th></th>\n",
              "      <th>column</th>\n",
              "    </tr>\n",
              "  </thead>\n",
              "  <tbody>\n",
              "    <tr>\n",
              "      <th>0</th>\n",
              "      <td>{'آبی', 'یاد', 'پرانرژی', 'مهربان', 'هایی', 'ن...</td>\n",
              "    </tr>\n",
              "    <tr>\n",
              "      <th>1</th>\n",
              "      <td>{'گذاشتم', 'هرکجا', 'انگیز', 'بودم', 'می', 'دس...</td>\n",
              "    </tr>\n",
              "    <tr>\n",
              "      <th>2</th>\n",
              "      <td>{'دوستش', 'آبی', 'زیاد', 'زیبایی', 'تو', 'نداش...</td>\n",
              "    </tr>\n",
              "    <tr>\n",
              "      <th>3</th>\n",
              "      <td>{'حواسم', 'وسایل', 'ارزشش', 'آبی', 'خواستم', '...</td>\n",
              "    </tr>\n",
              "    <tr>\n",
              "      <th>4</th>\n",
              "      <td>{'حواسم', 'آبی', 'یاد', 'روز', 'بودم', 'بردی',...</td>\n",
              "    </tr>\n",
              "    <tr>\n",
              "      <th>5</th>\n",
              "      <td>{'حواسم', 'داشتم', 'آبی', 'شدم', 'ناامیدی', 'ه...</td>\n",
              "    </tr>\n",
              "    <tr>\n",
              "      <th>6</th>\n",
              "      <td>{'کمتر', 'حواسم', 'داشتم', 'کافی', 'آبی', 'بود...</td>\n",
              "    </tr>\n",
              "    <tr>\n",
              "      <th>7</th>\n",
              "      <td>{'شدی', 'روز', 'متنفر', 'زرد', 'بالاخره', 'تو'...</td>\n",
              "    </tr>\n",
              "    <tr>\n",
              "      <th>8</th>\n",
              "      <td>{'دنیای', 'آبی', 'خواهم', 'خودم', 'داشتنی', 'م...</td>\n",
              "    </tr>\n",
              "  </tbody>\n",
              "</table>\n",
              "</div>\n",
              "      <button class=\"colab-df-convert\" onclick=\"convertToInteractive('df-fd503860-735b-469c-9503-b948558c40a1')\"\n",
              "              title=\"Convert this dataframe to an interactive table.\"\n",
              "              style=\"display:none;\">\n",
              "        \n",
              "  <svg xmlns=\"http://www.w3.org/2000/svg\" height=\"24px\"viewBox=\"0 0 24 24\"\n",
              "       width=\"24px\">\n",
              "    <path d=\"M0 0h24v24H0V0z\" fill=\"none\"/>\n",
              "    <path d=\"M18.56 5.44l.94 2.06.94-2.06 2.06-.94-2.06-.94-.94-2.06-.94 2.06-2.06.94zm-11 1L8.5 8.5l.94-2.06 2.06-.94-2.06-.94L8.5 2.5l-.94 2.06-2.06.94zm10 10l.94 2.06.94-2.06 2.06-.94-2.06-.94-.94-2.06-.94 2.06-2.06.94z\"/><path d=\"M17.41 7.96l-1.37-1.37c-.4-.4-.92-.59-1.43-.59-.52 0-1.04.2-1.43.59L10.3 9.45l-7.72 7.72c-.78.78-.78 2.05 0 2.83L4 21.41c.39.39.9.59 1.41.59.51 0 1.02-.2 1.41-.59l7.78-7.78 2.81-2.81c.8-.78.8-2.07 0-2.86zM5.41 20L4 18.59l7.72-7.72 1.47 1.35L5.41 20z\"/>\n",
              "  </svg>\n",
              "      </button>\n",
              "      \n",
              "  <style>\n",
              "    .colab-df-container {\n",
              "      display:flex;\n",
              "      flex-wrap:wrap;\n",
              "      gap: 12px;\n",
              "    }\n",
              "\n",
              "    .colab-df-convert {\n",
              "      background-color: #E8F0FE;\n",
              "      border: none;\n",
              "      border-radius: 50%;\n",
              "      cursor: pointer;\n",
              "      display: none;\n",
              "      fill: #1967D2;\n",
              "      height: 32px;\n",
              "      padding: 0 0 0 0;\n",
              "      width: 32px;\n",
              "    }\n",
              "\n",
              "    .colab-df-convert:hover {\n",
              "      background-color: #E2EBFA;\n",
              "      box-shadow: 0px 1px 2px rgba(60, 64, 67, 0.3), 0px 1px 3px 1px rgba(60, 64, 67, 0.15);\n",
              "      fill: #174EA6;\n",
              "    }\n",
              "\n",
              "    [theme=dark] .colab-df-convert {\n",
              "      background-color: #3B4455;\n",
              "      fill: #D2E3FC;\n",
              "    }\n",
              "\n",
              "    [theme=dark] .colab-df-convert:hover {\n",
              "      background-color: #434B5C;\n",
              "      box-shadow: 0px 1px 3px 1px rgba(0, 0, 0, 0.15);\n",
              "      filter: drop-shadow(0px 1px 2px rgba(0, 0, 0, 0.3));\n",
              "      fill: #FFFFFF;\n",
              "    }\n",
              "  </style>\n",
              "\n",
              "      <script>\n",
              "        const buttonEl =\n",
              "          document.querySelector('#df-fd503860-735b-469c-9503-b948558c40a1 button.colab-df-convert');\n",
              "        buttonEl.style.display =\n",
              "          google.colab.kernel.accessAllowed ? 'block' : 'none';\n",
              "\n",
              "        async function convertToInteractive(key) {\n",
              "          const element = document.querySelector('#df-fd503860-735b-469c-9503-b948558c40a1');\n",
              "          const dataTable =\n",
              "            await google.colab.kernel.invokeFunction('convertToInteractive',\n",
              "                                                     [key], {});\n",
              "          if (!dataTable) return;\n",
              "\n",
              "          const docLinkHtml = 'Like what you see? Visit the ' +\n",
              "            '<a target=\"_blank\" href=https://colab.research.google.com/notebooks/data_table.ipynb>data table notebook</a>'\n",
              "            + ' to learn more about interactive tables.';\n",
              "          element.innerHTML = '';\n",
              "          dataTable['output_type'] = 'display_data';\n",
              "          await google.colab.output.renderOutput(dataTable, element);\n",
              "          const docLink = document.createElement('div');\n",
              "          docLink.innerHTML = docLinkHtml;\n",
              "          element.appendChild(docLink);\n",
              "        }\n",
              "      </script>\n",
              "    </div>\n",
              "  </div>\n",
              "  "
            ]
          },
          "metadata": {},
          "execution_count": 25
        }
      ]
    },
    {
      "cell_type": "code",
      "source": [
        "extractPattern(file01_set, transaction_df)"
      ],
      "metadata": {
        "id": "v7sGF2VEW5A4",
        "colab": {
          "base_uri": "https://localhost:8080/",
          "height": 206
        },
        "outputId": "323f86e6-f50a-4b92-e654-c2e71e7e4da0"
      },
      "execution_count": 26,
      "outputs": [
        {
          "output_type": "execute_result",
          "data": {
            "text/plain": [
              "                itemset  frequency\n",
              "9     (دنیای, نمی, آبی)          4\n",
              "12  (دنیای, حواسم, آبی)          4\n",
              "15     (دنیای, می, آبی)          4\n",
              "19     (دنیای, تو, آبی)          4\n",
              "21    (دنیای, رنگ, آبی)          5"
            ],
            "text/html": [
              "\n",
              "  <div id=\"df-7738d16a-7ee3-4b1d-9bed-22cb44cb5353\">\n",
              "    <div class=\"colab-df-container\">\n",
              "      <div>\n",
              "<style scoped>\n",
              "    .dataframe tbody tr th:only-of-type {\n",
              "        vertical-align: middle;\n",
              "    }\n",
              "\n",
              "    .dataframe tbody tr th {\n",
              "        vertical-align: top;\n",
              "    }\n",
              "\n",
              "    .dataframe thead th {\n",
              "        text-align: right;\n",
              "    }\n",
              "</style>\n",
              "<table border=\"1\" class=\"dataframe\">\n",
              "  <thead>\n",
              "    <tr style=\"text-align: right;\">\n",
              "      <th></th>\n",
              "      <th>itemset</th>\n",
              "      <th>frequency</th>\n",
              "    </tr>\n",
              "  </thead>\n",
              "  <tbody>\n",
              "    <tr>\n",
              "      <th>9</th>\n",
              "      <td>(دنیای, نمی, آبی)</td>\n",
              "      <td>4</td>\n",
              "    </tr>\n",
              "    <tr>\n",
              "      <th>12</th>\n",
              "      <td>(دنیای, حواسم, آبی)</td>\n",
              "      <td>4</td>\n",
              "    </tr>\n",
              "    <tr>\n",
              "      <th>15</th>\n",
              "      <td>(دنیای, می, آبی)</td>\n",
              "      <td>4</td>\n",
              "    </tr>\n",
              "    <tr>\n",
              "      <th>19</th>\n",
              "      <td>(دنیای, تو, آبی)</td>\n",
              "      <td>4</td>\n",
              "    </tr>\n",
              "    <tr>\n",
              "      <th>21</th>\n",
              "      <td>(دنیای, رنگ, آبی)</td>\n",
              "      <td>5</td>\n",
              "    </tr>\n",
              "  </tbody>\n",
              "</table>\n",
              "</div>\n",
              "      <button class=\"colab-df-convert\" onclick=\"convertToInteractive('df-7738d16a-7ee3-4b1d-9bed-22cb44cb5353')\"\n",
              "              title=\"Convert this dataframe to an interactive table.\"\n",
              "              style=\"display:none;\">\n",
              "        \n",
              "  <svg xmlns=\"http://www.w3.org/2000/svg\" height=\"24px\"viewBox=\"0 0 24 24\"\n",
              "       width=\"24px\">\n",
              "    <path d=\"M0 0h24v24H0V0z\" fill=\"none\"/>\n",
              "    <path d=\"M18.56 5.44l.94 2.06.94-2.06 2.06-.94-2.06-.94-.94-2.06-.94 2.06-2.06.94zm-11 1L8.5 8.5l.94-2.06 2.06-.94-2.06-.94L8.5 2.5l-.94 2.06-2.06.94zm10 10l.94 2.06.94-2.06 2.06-.94-2.06-.94-.94-2.06-.94 2.06-2.06.94z\"/><path d=\"M17.41 7.96l-1.37-1.37c-.4-.4-.92-.59-1.43-.59-.52 0-1.04.2-1.43.59L10.3 9.45l-7.72 7.72c-.78.78-.78 2.05 0 2.83L4 21.41c.39.39.9.59 1.41.59.51 0 1.02-.2 1.41-.59l7.78-7.78 2.81-2.81c.8-.78.8-2.07 0-2.86zM5.41 20L4 18.59l7.72-7.72 1.47 1.35L5.41 20z\"/>\n",
              "  </svg>\n",
              "      </button>\n",
              "      \n",
              "  <style>\n",
              "    .colab-df-container {\n",
              "      display:flex;\n",
              "      flex-wrap:wrap;\n",
              "      gap: 12px;\n",
              "    }\n",
              "\n",
              "    .colab-df-convert {\n",
              "      background-color: #E8F0FE;\n",
              "      border: none;\n",
              "      border-radius: 50%;\n",
              "      cursor: pointer;\n",
              "      display: none;\n",
              "      fill: #1967D2;\n",
              "      height: 32px;\n",
              "      padding: 0 0 0 0;\n",
              "      width: 32px;\n",
              "    }\n",
              "\n",
              "    .colab-df-convert:hover {\n",
              "      background-color: #E2EBFA;\n",
              "      box-shadow: 0px 1px 2px rgba(60, 64, 67, 0.3), 0px 1px 3px 1px rgba(60, 64, 67, 0.15);\n",
              "      fill: #174EA6;\n",
              "    }\n",
              "\n",
              "    [theme=dark] .colab-df-convert {\n",
              "      background-color: #3B4455;\n",
              "      fill: #D2E3FC;\n",
              "    }\n",
              "\n",
              "    [theme=dark] .colab-df-convert:hover {\n",
              "      background-color: #434B5C;\n",
              "      box-shadow: 0px 1px 3px 1px rgba(0, 0, 0, 0.15);\n",
              "      filter: drop-shadow(0px 1px 2px rgba(0, 0, 0, 0.3));\n",
              "      fill: #FFFFFF;\n",
              "    }\n",
              "  </style>\n",
              "\n",
              "      <script>\n",
              "        const buttonEl =\n",
              "          document.querySelector('#df-7738d16a-7ee3-4b1d-9bed-22cb44cb5353 button.colab-df-convert');\n",
              "        buttonEl.style.display =\n",
              "          google.colab.kernel.accessAllowed ? 'block' : 'none';\n",
              "\n",
              "        async function convertToInteractive(key) {\n",
              "          const element = document.querySelector('#df-7738d16a-7ee3-4b1d-9bed-22cb44cb5353');\n",
              "          const dataTable =\n",
              "            await google.colab.kernel.invokeFunction('convertToInteractive',\n",
              "                                                     [key], {});\n",
              "          if (!dataTable) return;\n",
              "\n",
              "          const docLinkHtml = 'Like what you see? Visit the ' +\n",
              "            '<a target=\"_blank\" href=https://colab.research.google.com/notebooks/data_table.ipynb>data table notebook</a>'\n",
              "            + ' to learn more about interactive tables.';\n",
              "          element.innerHTML = '';\n",
              "          dataTable['output_type'] = 'display_data';\n",
              "          await google.colab.output.renderOutput(dataTable, element);\n",
              "          const docLink = document.createElement('div');\n",
              "          docLink.innerHTML = docLinkHtml;\n",
              "          element.appendChild(docLink);\n",
              "        }\n",
              "      </script>\n",
              "    </div>\n",
              "  </div>\n",
              "  "
            ]
          },
          "metadata": {},
          "execution_count": 26
        }
      ]
    },
    {
      "cell_type": "code",
      "source": [],
      "metadata": {
        "id": "OgftDYpo5t5e"
      },
      "execution_count": 26,
      "outputs": []
    }
  ]
}